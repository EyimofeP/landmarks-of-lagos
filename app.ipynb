{
 "cells": [
  {
   "cell_type": "code",
   "execution_count": 1,
   "metadata": {},
   "outputs": [],
   "source": [
    "import tensorflow as tf\n",
    "import tensorflow_hub as hub"
   ]
  },
  {
   "cell_type": "code",
   "execution_count": 2,
   "metadata": {},
   "outputs": [],
   "source": [
    "model = tf.keras.models.load_model(\n",
    "       (\"final_model.h5\"),\n",
    "       custom_objects={'KerasLayer': hub.KerasLayer}\n",
    ")"
   ]
  },
  {
   "cell_type": "code",
   "execution_count": 8,
   "metadata": {},
   "outputs": [
    {
     "data": {
      "text/plain": [
       "[<keras.engine.input_layer.InputLayer at 0x213c2f70190>,\n",
       " <keras.engine.sequential.Sequential at 0x213c2f70b50>,\n",
       " <keras.engine.functional.Functional at 0x213c310e1d0>,\n",
       " <keras.layers.pooling.global_average_pooling2d.GlobalAveragePooling2D at 0x213c4273a30>,\n",
       " <keras.layers.reshaping.flatten.Flatten at 0x213c310d4e0>,\n",
       " <keras.layers.core.dense.Dense at 0x213c43625c0>,\n",
       " <keras.layers.regularization.dropout.Dropout at 0x213c4464610>,\n",
       " <keras.layers.core.dense.Dense at 0x213c4466530>]"
      ]
     },
     "execution_count": 8,
     "metadata": {},
     "output_type": "execute_result"
    }
   ],
   "source": [
    "model.layers"
   ]
  },
  {
   "cell_type": "code",
   "execution_count": 10,
   "metadata": {},
   "outputs": [
    {
     "data": {
      "text/plain": [
       "<keras.layers.pooling.global_average_pooling2d.GlobalAveragePooling2D at 0x213c4273a30>"
      ]
     },
     "execution_count": 10,
     "metadata": {},
     "output_type": "execute_result"
    }
   ],
   "source": [
    "model.layers[-]"
   ]
  },
  {
   "cell_type": "code",
   "execution_count": 5,
   "metadata": {},
   "outputs": [],
   "source": [
    "from tensorflow_model_optimization.quantization.keras import quantize_model"
   ]
  },
  {
   "cell_type": "code",
   "execution_count": 6,
   "metadata": {},
   "outputs": [
    {
     "ename": "ValueError",
     "evalue": "Please initialize `Prune` with a supported layer. Layers should either be supported by the PruneRegistry (built-in keras layers) or should be a `PrunableLayer` instance, or should has a customer defined `get_prunable_weights` method. You passed: <class 'keras.layers.preprocessing.image_preprocessing.RandomRotation'>",
     "output_type": "error",
     "traceback": [
      "\u001b[1;31m---------------------------------------------------------------------------\u001b[0m",
      "\u001b[1;31mValueError\u001b[0m                                Traceback (most recent call last)",
      "Cell \u001b[1;32mIn[6], line 2\u001b[0m\n\u001b[0;32m      1\u001b[0m pruning_params \u001b[39m=\u001b[39m {\u001b[39m'\u001b[39m\u001b[39mpruning_schedule\u001b[39m\u001b[39m'\u001b[39m: sparsity\u001b[39m.\u001b[39mConstantSparsity(\u001b[39m0.5\u001b[39m, \u001b[39m0\u001b[39m)}\n\u001b[1;32m----> 2\u001b[0m model_pruned \u001b[39m=\u001b[39m sparsity\u001b[39m.\u001b[39mprune_low_magnitude(model, \u001b[39m*\u001b[39m\u001b[39m*\u001b[39mpruning_params)\n",
      "File \u001b[1;32mc:\\Users\\Eyimo\\anaconda3\\lib\\site-packages\\tensorflow_model_optimization\\python\\core\\keras\\metrics.py:74\u001b[0m, in \u001b[0;36mMonitorBoolGauge.__call__.<locals>.inner\u001b[1;34m(*args, **kwargs)\u001b[0m\n\u001b[0;32m     72\u001b[0m \u001b[39mexcept\u001b[39;00m \u001b[39mException\u001b[39;00m \u001b[39mas\u001b[39;00m error:\n\u001b[0;32m     73\u001b[0m   \u001b[39mself\u001b[39m\u001b[39m.\u001b[39mbool_gauge\u001b[39m.\u001b[39mget_cell(MonitorBoolGauge\u001b[39m.\u001b[39m_FAILURE_LABEL)\u001b[39m.\u001b[39mset(\u001b[39mTrue\u001b[39;00m)\n\u001b[1;32m---> 74\u001b[0m   \u001b[39mraise\u001b[39;00m error\n",
      "File \u001b[1;32mc:\\Users\\Eyimo\\anaconda3\\lib\\site-packages\\tensorflow_model_optimization\\python\\core\\keras\\metrics.py:69\u001b[0m, in \u001b[0;36mMonitorBoolGauge.__call__.<locals>.inner\u001b[1;34m(*args, **kwargs)\u001b[0m\n\u001b[0;32m     66\u001b[0m \u001b[39m@functools\u001b[39m\u001b[39m.\u001b[39mwraps(func)\n\u001b[0;32m     67\u001b[0m \u001b[39mdef\u001b[39;00m \u001b[39minner\u001b[39m(\u001b[39m*\u001b[39margs, \u001b[39m*\u001b[39m\u001b[39m*\u001b[39mkwargs):\n\u001b[0;32m     68\u001b[0m   \u001b[39mtry\u001b[39;00m:\n\u001b[1;32m---> 69\u001b[0m     results \u001b[39m=\u001b[39m func(\u001b[39m*\u001b[39margs, \u001b[39m*\u001b[39m\u001b[39m*\u001b[39mkwargs)\n\u001b[0;32m     70\u001b[0m     \u001b[39mself\u001b[39m\u001b[39m.\u001b[39mbool_gauge\u001b[39m.\u001b[39mget_cell(MonitorBoolGauge\u001b[39m.\u001b[39m_SUCCESS_LABEL)\u001b[39m.\u001b[39mset(\u001b[39mTrue\u001b[39;00m)\n\u001b[0;32m     71\u001b[0m     \u001b[39mreturn\u001b[39;00m results\n",
      "File \u001b[1;32mc:\\Users\\Eyimo\\anaconda3\\lib\\site-packages\\tensorflow_model_optimization\\python\\core\\sparsity\\keras\\prune.py:210\u001b[0m, in \u001b[0;36mprune_low_magnitude\u001b[1;34m(to_prune, pruning_schedule, block_size, block_pooling_type, pruning_policy, sparsity_m_by_n, **kwargs)\u001b[0m\n\u001b[0;32m    208\u001b[0m   \u001b[39mif\u001b[39;00m pruning_policy:\n\u001b[0;32m    209\u001b[0m     pruning_policy\u001b[39m.\u001b[39mensure_model_supports_pruning(to_prune)\n\u001b[1;32m--> 210\u001b[0m   \u001b[39mreturn\u001b[39;00m _add_pruning_wrapper(to_prune)\n\u001b[0;32m    211\u001b[0m \u001b[39melif\u001b[39;00m is_keras_layer:\n\u001b[0;32m    212\u001b[0m   params\u001b[39m.\u001b[39mupdate(kwargs)\n",
      "File \u001b[1;32mc:\\Users\\Eyimo\\anaconda3\\lib\\site-packages\\tensorflow_model_optimization\\python\\core\\sparsity\\keras\\prune.py:181\u001b[0m, in \u001b[0;36mprune_low_magnitude.<locals>._add_pruning_wrapper\u001b[1;34m(layer)\u001b[0m\n\u001b[0;32m    177\u001b[0m   \u001b[39mif\u001b[39;00m (\u001b[39mnot\u001b[39;00m layer\u001b[39m.\u001b[39m_is_graph_network \u001b[39mand\u001b[39;00m\n\u001b[0;32m    178\u001b[0m       \u001b[39mnot\u001b[39;00m \u001b[39misinstance\u001b[39m(layer, keras\u001b[39m.\u001b[39mmodels\u001b[39m.\u001b[39mSequential)):\n\u001b[0;32m    179\u001b[0m     \u001b[39mraise\u001b[39;00m \u001b[39mValueError\u001b[39;00m(\u001b[39m'\u001b[39m\u001b[39mSubclassed models are not supported currently.\u001b[39m\u001b[39m'\u001b[39m)\n\u001b[1;32m--> 181\u001b[0m   \u001b[39mreturn\u001b[39;00m keras\u001b[39m.\u001b[39;49mmodels\u001b[39m.\u001b[39;49mclone_model(\n\u001b[0;32m    182\u001b[0m       layer, input_tensors\u001b[39m=\u001b[39;49m\u001b[39mNone\u001b[39;49;00m, clone_function\u001b[39m=\u001b[39;49m_add_pruning_wrapper)\n\u001b[0;32m    183\u001b[0m \u001b[39mif\u001b[39;00m \u001b[39misinstance\u001b[39m(layer, pruning_wrapper\u001b[39m.\u001b[39mPruneLowMagnitude):\n\u001b[0;32m    184\u001b[0m   \u001b[39mreturn\u001b[39;00m layer\n",
      "File \u001b[1;32mc:\\Users\\Eyimo\\anaconda3\\lib\\site-packages\\keras\\models\\cloning.py:529\u001b[0m, in \u001b[0;36mclone_model\u001b[1;34m(model, input_tensors, clone_function)\u001b[0m\n\u001b[0;32m    519\u001b[0m \u001b[39mif\u001b[39;00m \u001b[39misinstance\u001b[39m(model, functional\u001b[39m.\u001b[39mFunctional):\n\u001b[0;32m    520\u001b[0m     \u001b[39m# If the get_config() method is the same as a regular Functional\u001b[39;00m\n\u001b[0;32m    521\u001b[0m     \u001b[39m# model, we're safe to use _clone_functional_model (which relies\u001b[39;00m\n\u001b[1;32m   (...)\u001b[0m\n\u001b[0;32m    524\u001b[0m     \u001b[39m# or input_tensors are passed, we attempt it anyway\u001b[39;00m\n\u001b[0;32m    525\u001b[0m     \u001b[39m# in order to preserve backwards compatibility.\u001b[39;00m\n\u001b[0;32m    526\u001b[0m     \u001b[39mif\u001b[39;00m generic_utils\u001b[39m.\u001b[39mis_default(model\u001b[39m.\u001b[39mget_config) \u001b[39mor\u001b[39;00m (\n\u001b[0;32m    527\u001b[0m         clone_function \u001b[39mor\u001b[39;00m input_tensors\n\u001b[0;32m    528\u001b[0m     ):\n\u001b[1;32m--> 529\u001b[0m         \u001b[39mreturn\u001b[39;00m _clone_functional_model(\n\u001b[0;32m    530\u001b[0m             model, input_tensors\u001b[39m=\u001b[39;49minput_tensors, layer_fn\u001b[39m=\u001b[39;49mclone_function\n\u001b[0;32m    531\u001b[0m         )\n\u001b[0;32m    533\u001b[0m \u001b[39m# Case of a custom model class\u001b[39;00m\n\u001b[0;32m    534\u001b[0m \u001b[39mif\u001b[39;00m clone_function \u001b[39mor\u001b[39;00m input_tensors:\n",
      "File \u001b[1;32mc:\\Users\\Eyimo\\anaconda3\\lib\\site-packages\\keras\\models\\cloning.py:212\u001b[0m, in \u001b[0;36m_clone_functional_model\u001b[1;34m(model, input_tensors, layer_fn)\u001b[0m\n\u001b[0;32m    206\u001b[0m \u001b[39mif\u001b[39;00m \u001b[39mnot\u001b[39;00m \u001b[39mcallable\u001b[39m(layer_fn):\n\u001b[0;32m    207\u001b[0m     \u001b[39mraise\u001b[39;00m \u001b[39mValueError\u001b[39;00m(\n\u001b[0;32m    208\u001b[0m         \u001b[39m\"\u001b[39m\u001b[39mExpected `layer_fn` argument to be a callable. \u001b[39m\u001b[39m\"\u001b[39m\n\u001b[0;32m    209\u001b[0m         \u001b[39mf\u001b[39m\u001b[39m\"\u001b[39m\u001b[39mReceived: layer_fn=\u001b[39m\u001b[39m{\u001b[39;00mlayer_fn\u001b[39m}\u001b[39;00m\u001b[39m\"\u001b[39m\n\u001b[0;32m    210\u001b[0m     )\n\u001b[1;32m--> 212\u001b[0m model_configs, created_layers \u001b[39m=\u001b[39m _clone_layers_and_model_config(\n\u001b[0;32m    213\u001b[0m     model, new_input_layers, layer_fn\n\u001b[0;32m    214\u001b[0m )\n\u001b[0;32m    215\u001b[0m \u001b[39m# Reconstruct model from the config, using the cloned layers.\u001b[39;00m\n\u001b[0;32m    216\u001b[0m (\n\u001b[0;32m    217\u001b[0m     input_tensors,\n\u001b[0;32m    218\u001b[0m     output_tensors,\n\u001b[1;32m   (...)\u001b[0m\n\u001b[0;32m    221\u001b[0m     model_configs, created_layers\u001b[39m=\u001b[39mcreated_layers\n\u001b[0;32m    222\u001b[0m )\n",
      "File \u001b[1;32mc:\\Users\\Eyimo\\anaconda3\\lib\\site-packages\\keras\\models\\cloning.py:288\u001b[0m, in \u001b[0;36m_clone_layers_and_model_config\u001b[1;34m(model, input_layers, layer_fn)\u001b[0m\n\u001b[0;32m    285\u001b[0m         created_layers[layer\u001b[39m.\u001b[39mname] \u001b[39m=\u001b[39m layer_fn(layer)\n\u001b[0;32m    286\u001b[0m     \u001b[39mreturn\u001b[39;00m {}\n\u001b[1;32m--> 288\u001b[0m config \u001b[39m=\u001b[39m functional\u001b[39m.\u001b[39;49mget_network_config(\n\u001b[0;32m    289\u001b[0m     model, serialize_layer_fn\u001b[39m=\u001b[39;49m_copy_layer\n\u001b[0;32m    290\u001b[0m )\n\u001b[0;32m    291\u001b[0m \u001b[39mreturn\u001b[39;00m config, created_layers\n",
      "File \u001b[1;32mc:\\Users\\Eyimo\\anaconda3\\lib\\site-packages\\keras\\engine\\functional.py:1577\u001b[0m, in \u001b[0;36mget_network_config\u001b[1;34m(network, serialize_layer_fn, config)\u001b[0m\n\u001b[0;32m   1572\u001b[0m         node_data \u001b[39m=\u001b[39m node\u001b[39m.\u001b[39mserialize(\n\u001b[0;32m   1573\u001b[0m             _make_node_key, node_conversion_map\n\u001b[0;32m   1574\u001b[0m         )\n\u001b[0;32m   1575\u001b[0m         filtered_inbound_nodes\u001b[39m.\u001b[39mappend(node_data)\n\u001b[1;32m-> 1577\u001b[0m layer_config \u001b[39m=\u001b[39m serialize_layer_fn(layer)\n\u001b[0;32m   1578\u001b[0m layer_config[\u001b[39m\"\u001b[39m\u001b[39mname\u001b[39m\u001b[39m\"\u001b[39m] \u001b[39m=\u001b[39m layer\u001b[39m.\u001b[39mname\n\u001b[0;32m   1579\u001b[0m layer_config[\u001b[39m\"\u001b[39m\u001b[39minbound_nodes\u001b[39m\u001b[39m\"\u001b[39m] \u001b[39m=\u001b[39m filtered_inbound_nodes\n",
      "File \u001b[1;32mc:\\Users\\Eyimo\\anaconda3\\lib\\site-packages\\keras\\models\\cloning.py:285\u001b[0m, in \u001b[0;36m_clone_layers_and_model_config.<locals>._copy_layer\u001b[1;34m(layer)\u001b[0m\n\u001b[0;32m    283\u001b[0m     created_layers[layer\u001b[39m.\u001b[39mname] \u001b[39m=\u001b[39m InputLayer(\u001b[39m*\u001b[39m\u001b[39m*\u001b[39mlayer\u001b[39m.\u001b[39mget_config())\n\u001b[0;32m    284\u001b[0m \u001b[39melse\u001b[39;00m:\n\u001b[1;32m--> 285\u001b[0m     created_layers[layer\u001b[39m.\u001b[39mname] \u001b[39m=\u001b[39m layer_fn(layer)\n\u001b[0;32m    286\u001b[0m \u001b[39mreturn\u001b[39;00m {}\n",
      "File \u001b[1;32mc:\\Users\\Eyimo\\anaconda3\\lib\\site-packages\\tensorflow_model_optimization\\python\\core\\sparsity\\keras\\prune.py:181\u001b[0m, in \u001b[0;36mprune_low_magnitude.<locals>._add_pruning_wrapper\u001b[1;34m(layer)\u001b[0m\n\u001b[0;32m    177\u001b[0m   \u001b[39mif\u001b[39;00m (\u001b[39mnot\u001b[39;00m layer\u001b[39m.\u001b[39m_is_graph_network \u001b[39mand\u001b[39;00m\n\u001b[0;32m    178\u001b[0m       \u001b[39mnot\u001b[39;00m \u001b[39misinstance\u001b[39m(layer, keras\u001b[39m.\u001b[39mmodels\u001b[39m.\u001b[39mSequential)):\n\u001b[0;32m    179\u001b[0m     \u001b[39mraise\u001b[39;00m \u001b[39mValueError\u001b[39;00m(\u001b[39m'\u001b[39m\u001b[39mSubclassed models are not supported currently.\u001b[39m\u001b[39m'\u001b[39m)\n\u001b[1;32m--> 181\u001b[0m   \u001b[39mreturn\u001b[39;00m keras\u001b[39m.\u001b[39;49mmodels\u001b[39m.\u001b[39;49mclone_model(\n\u001b[0;32m    182\u001b[0m       layer, input_tensors\u001b[39m=\u001b[39;49m\u001b[39mNone\u001b[39;49;00m, clone_function\u001b[39m=\u001b[39;49m_add_pruning_wrapper)\n\u001b[0;32m    183\u001b[0m \u001b[39mif\u001b[39;00m \u001b[39misinstance\u001b[39m(layer, pruning_wrapper\u001b[39m.\u001b[39mPruneLowMagnitude):\n\u001b[0;32m    184\u001b[0m   \u001b[39mreturn\u001b[39;00m layer\n",
      "File \u001b[1;32mc:\\Users\\Eyimo\\anaconda3\\lib\\site-packages\\keras\\models\\cloning.py:516\u001b[0m, in \u001b[0;36mclone_model\u001b[1;34m(model, input_tensors, clone_function)\u001b[0m\n\u001b[0;32m    514\u001b[0m \u001b[39mwith\u001b[39;00m serialization\u001b[39m.\u001b[39mDisableSharedObjectScope():\n\u001b[0;32m    515\u001b[0m     \u001b[39mif\u001b[39;00m \u001b[39misinstance\u001b[39m(model, Sequential):\n\u001b[1;32m--> 516\u001b[0m         \u001b[39mreturn\u001b[39;00m _clone_sequential_model(\n\u001b[0;32m    517\u001b[0m             model, input_tensors\u001b[39m=\u001b[39;49minput_tensors, layer_fn\u001b[39m=\u001b[39;49mclone_function\n\u001b[0;32m    518\u001b[0m         )\n\u001b[0;32m    519\u001b[0m     \u001b[39mif\u001b[39;00m \u001b[39misinstance\u001b[39m(model, functional\u001b[39m.\u001b[39mFunctional):\n\u001b[0;32m    520\u001b[0m         \u001b[39m# If the get_config() method is the same as a regular Functional\u001b[39;00m\n\u001b[0;32m    521\u001b[0m         \u001b[39m# model, we're safe to use _clone_functional_model (which relies\u001b[39;00m\n\u001b[1;32m   (...)\u001b[0m\n\u001b[0;32m    524\u001b[0m         \u001b[39m# or input_tensors are passed, we attempt it anyway\u001b[39;00m\n\u001b[0;32m    525\u001b[0m         \u001b[39m# in order to preserve backwards compatibility.\u001b[39;00m\n\u001b[0;32m    526\u001b[0m         \u001b[39mif\u001b[39;00m generic_utils\u001b[39m.\u001b[39mis_default(model\u001b[39m.\u001b[39mget_config) \u001b[39mor\u001b[39;00m (\n\u001b[0;32m    527\u001b[0m             clone_function \u001b[39mor\u001b[39;00m input_tensors\n\u001b[0;32m    528\u001b[0m         ):\n",
      "File \u001b[1;32mc:\\Users\\Eyimo\\anaconda3\\lib\\site-packages\\keras\\models\\cloning.py:380\u001b[0m, in \u001b[0;36m_clone_sequential_model\u001b[1;34m(model, input_tensors, layer_fn)\u001b[0m\n\u001b[0;32m    373\u001b[0m \u001b[39mif\u001b[39;00m \u001b[39misinstance\u001b[39m(layer, InputLayer) \u001b[39mand\u001b[39;00m input_tensors \u001b[39mis\u001b[39;00m \u001b[39mnot\u001b[39;00m \u001b[39mNone\u001b[39;00m:\n\u001b[0;32m    374\u001b[0m     \u001b[39m# If input tensors are provided, the original model's InputLayer is\u001b[39;00m\n\u001b[0;32m    375\u001b[0m     \u001b[39m# overwritten with a different InputLayer.\u001b[39;00m\n\u001b[0;32m    376\u001b[0m     \u001b[39mcontinue\u001b[39;00m\n\u001b[0;32m    377\u001b[0m cloned_layer \u001b[39m=\u001b[39m (\n\u001b[0;32m    378\u001b[0m     _clone_layer(layer)\n\u001b[0;32m    379\u001b[0m     \u001b[39mif\u001b[39;00m \u001b[39misinstance\u001b[39m(layer, InputLayer)\n\u001b[1;32m--> 380\u001b[0m     \u001b[39melse\u001b[39;00m layer_fn(layer)\n\u001b[0;32m    381\u001b[0m )\n\u001b[0;32m    382\u001b[0m layers\u001b[39m.\u001b[39mappend(cloned_layer)\n\u001b[0;32m    383\u001b[0m layer_map[layer] \u001b[39m=\u001b[39m cloned_layer\n",
      "File \u001b[1;32mc:\\Users\\Eyimo\\anaconda3\\lib\\site-packages\\tensorflow_model_optimization\\python\\core\\sparsity\\keras\\prune.py:188\u001b[0m, in \u001b[0;36mprune_low_magnitude.<locals>._add_pruning_wrapper\u001b[1;34m(layer)\u001b[0m\n\u001b[0;32m    186\u001b[0m   \u001b[39mreturn\u001b[39;00m layer\n\u001b[0;32m    187\u001b[0m \u001b[39melse\u001b[39;00m:\n\u001b[1;32m--> 188\u001b[0m   \u001b[39mreturn\u001b[39;00m pruning_wrapper\u001b[39m.\u001b[39mPruneLowMagnitude(layer, \u001b[39m*\u001b[39m\u001b[39m*\u001b[39mparams)\n",
      "File \u001b[1;32mc:\\Users\\Eyimo\\anaconda3\\lib\\site-packages\\tensorflow_model_optimization\\python\\core\\sparsity\\keras\\pruning_wrapper.py:169\u001b[0m, in \u001b[0;36mPruneLowMagnitude.__init__\u001b[1;34m(self, layer, pruning_schedule, block_size, block_pooling_type, sparsity_m_by_n, **kwargs)\u001b[0m\n\u001b[0;32m    166\u001b[0m   \u001b[39msuper\u001b[39m(PruneLowMagnitude, \u001b[39mself\u001b[39m)\u001b[39m.\u001b[39m\u001b[39m__init__\u001b[39m(\n\u001b[0;32m    167\u001b[0m       prune_registry\u001b[39m.\u001b[39mPruneRegistry\u001b[39m.\u001b[39mmake_prunable(layer), \u001b[39m*\u001b[39m\u001b[39m*\u001b[39mkwargs)\n\u001b[0;32m    168\u001b[0m \u001b[39melse\u001b[39;00m:\n\u001b[1;32m--> 169\u001b[0m   \u001b[39mraise\u001b[39;00m \u001b[39mValueError\u001b[39;00m(\n\u001b[0;32m    170\u001b[0m       \u001b[39m'\u001b[39m\u001b[39mPlease initialize `Prune` with a supported layer. Layers should \u001b[39m\u001b[39m'\u001b[39m\n\u001b[0;32m    171\u001b[0m       \u001b[39m'\u001b[39m\u001b[39meither be supported by the PruneRegistry (built-in keras layers) or \u001b[39m\u001b[39m'\u001b[39m\n\u001b[0;32m    172\u001b[0m       \u001b[39m'\u001b[39m\u001b[39mshould be a `PrunableLayer` instance, or should has a customer \u001b[39m\u001b[39m'\u001b[39m\n\u001b[0;32m    173\u001b[0m       \u001b[39m'\u001b[39m\u001b[39mdefined `get_prunable_weights` method. You passed: \u001b[39m\u001b[39m'\u001b[39m\n\u001b[0;32m    174\u001b[0m       \u001b[39m'\u001b[39m\u001b[39m{input}\u001b[39;00m\u001b[39m'\u001b[39m\u001b[39m.\u001b[39mformat(\u001b[39minput\u001b[39m\u001b[39m=\u001b[39mlayer\u001b[39m.\u001b[39m\u001b[39m__class__\u001b[39m))\n\u001b[0;32m    176\u001b[0m \u001b[39mself\u001b[39m\u001b[39m.\u001b[39m_track_trackable(layer, name\u001b[39m=\u001b[39m\u001b[39m'\u001b[39m\u001b[39mlayer\u001b[39m\u001b[39m'\u001b[39m)\n\u001b[0;32m    178\u001b[0m \u001b[39m# TODO(yunluli): Work-around to handle the first layer of Sequential model\u001b[39;00m\n\u001b[0;32m    179\u001b[0m \u001b[39m# properly. Can remove this when it is implemented in the Wrapper base\u001b[39;00m\n\u001b[0;32m    180\u001b[0m \u001b[39m# class.\u001b[39;00m\n\u001b[1;32m   (...)\u001b[0m\n\u001b[0;32m    197\u001b[0m \u001b[39m# built. Being not built is confusing since the end-user has passed an\u001b[39;00m\n\u001b[0;32m    198\u001b[0m \u001b[39m# input shape.\u001b[39;00m\n",
      "\u001b[1;31mValueError\u001b[0m: Please initialize `Prune` with a supported layer. Layers should either be supported by the PruneRegistry (built-in keras layers) or should be a `PrunableLayer` instance, or should has a customer defined `get_prunable_weights` method. You passed: <class 'keras.layers.preprocessing.image_preprocessing.RandomRotation'>"
     ]
    }
   ],
   "source": [
    "quantize_model = quantize_model(model)"
   ]
  },
  {
   "cell_type": "code",
   "execution_count": null,
   "metadata": {},
   "outputs": [],
   "source": []
  }
 ],
 "metadata": {
  "kernelspec": {
   "display_name": "base",
   "language": "python",
   "name": "python3"
  },
  "language_info": {
   "codemirror_mode": {
    "name": "ipython",
    "version": 3
   },
   "file_extension": ".py",
   "mimetype": "text/x-python",
   "name": "python",
   "nbconvert_exporter": "python",
   "pygments_lexer": "ipython3",
   "version": "3.10.9"
  },
  "orig_nbformat": 4
 },
 "nbformat": 4,
 "nbformat_minor": 2
}
